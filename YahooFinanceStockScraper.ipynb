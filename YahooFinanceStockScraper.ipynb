{
  "nbformat": 4,
  "nbformat_minor": 0,
  "metadata": {
    "colab": {
      "provenance": [],
      "include_colab_link": true
    },
    "kernelspec": {
      "name": "python3",
      "display_name": "Python 3"
    },
    "language_info": {
      "name": "python"
    }
  },
  "cells": [
    {
      "cell_type": "markdown",
      "metadata": {
        "id": "view-in-github",
        "colab_type": "text"
      },
      "source": [
        "<a href=\"https://colab.research.google.com/github/arhamk01/YahooFinanceScapper/blob/main/YahooFinanceStockScraper.ipynb\" target=\"_parent\"><img src=\"https://colab.research.google.com/assets/colab-badge.svg\" alt=\"Open In Colab\"/></a>"
      ]
    },
    {
      "cell_type": "markdown",
      "source": [
        "#WEB SCRAPPING YAHOO FINANCE TO SCRAPE HISTORICAL STOCK PRICES\n",
        "## - AK ##"
      ],
      "metadata": {
        "id": "WvQxXgLY1-7o"
      }
    },
    {
      "cell_type": "markdown",
      "source": [
        "###Installing Dependencies"
      ],
      "metadata": {
        "id": "okMG6uBS4h6g"
      }
    },
    {
      "cell_type": "code",
      "source": [
        "# Install the yfinance and pandas libraries\n",
        "!pip install yfinance pandas\n",
        "\n",
        "import yfinance as yf\n",
        "import pandas as pd\n",
        "\n"
      ],
      "metadata": {
        "id": "2XRgYtS9193S"
      },
      "execution_count": null,
      "outputs": []
    },
    {
      "cell_type": "markdown",
      "source": [
        "###List Your Company's stock symbol"
      ],
      "metadata": {
        "id": "Hu68X2524nHl"
      }
    },
    {
      "cell_type": "code",
      "source": [
        "# Replace 'AMZN' with the stock symbol of the company you're interested in\n",
        "stock_symbol = 'AMZN'\n"
      ],
      "metadata": {
        "id": "wC68ZzUe3HeI"
      },
      "execution_count": null,
      "outputs": []
    },
    {
      "cell_type": "markdown",
      "source": [
        "###Run Cell to Scrape Values"
      ],
      "metadata": {
        "id": "lN2BRMjd4451"
      }
    },
    {
      "cell_type": "code",
      "source": [
        "# Get the company's ticker information\n",
        "ticker = yf.Ticker(stock_symbol)\n",
        "\n",
        "# Get the date when the company was listed\n",
        "start_date = ticker.history(period=\"max\").index[0]   ##Put Year as per your requirement\n",
        "\n",
        "# Get historical data from the start date to today\n",
        "historical_data = ticker.history(start=start_date, end=pd.Timestamp.today(), interval=\"1d\")    #intervals can be changed as -  \"1d\" , \"1wk\" , \"1mo\"\n",
        "\n",
        "# Remove timezone information from the datetime index\n",
        "historical_data.index = historical_data.index.tz_localize(None)"
      ],
      "metadata": {
        "id": "xcC8olX844tA"
      },
      "execution_count": null,
      "outputs": []
    },
    {
      "cell_type": "markdown",
      "source": [
        "###Export to Excel and Save"
      ],
      "metadata": {
        "id": "GjQ7WzKb490A"
      }
    },
    {
      "cell_type": "code",
      "source": [
        "# Export data to an Excel file and save in Colab storage\n",
        "\n",
        "excel_filename = \"/content/---.xlsx\"    #remove '---' and change file name here accordingly.\n",
        "\n",
        "historical_data.to_excel(excel_filename, engine='openpyxl')\n",
        "\n",
        "print(f\"Data exported to {excel_filename}\")"
      ],
      "metadata": {
        "id": "xuq1H-jf3MG2"
      },
      "execution_count": null,
      "outputs": []
    },
    {
      "cell_type": "markdown",
      "source": [
        "###CHECK FILES FOR THE SCRAPED EXCEL OUTPUT!"
      ],
      "metadata": {
        "id": "ZdmR69FU6D7x"
      }
    }
  ]
}