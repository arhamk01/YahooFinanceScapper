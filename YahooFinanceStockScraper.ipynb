{
  "nbformat": 4,
  "nbformat_minor": 0,
  "metadata": {
    "colab": {
      "provenance": [],
      "authorship_tag": "ABX9TyNtwNrtncSdbes+FgzxHiuA",
      "include_colab_link": true
    },
    "kernelspec": {
      "name": "python3",
      "display_name": "Python 3"
    },
    "language_info": {
      "name": "python"
    }
  },
  "cells": [
    {
      "cell_type": "markdown",
      "metadata": {
        "id": "view-in-github",
        "colab_type": "text"
      },
      "source": [
        "<a href=\"https://colab.research.google.com/github/arhamk01/YahooFinanceScapper/blob/main/YahooFinanceStockScraper.ipynb\" target=\"_parent\"><img src=\"https://colab.research.google.com/assets/colab-badge.svg\" alt=\"Open In Colab\"/></a>"
      ]
    },
    {
      "cell_type": "markdown",
      "source": [
        "#WEB SCRAPPING YAHOO FINANCE TO SCRAPE HISTORICAL STOCK PRICES\n",
        "## - AK ##"
      ],
      "metadata": {
        "id": "WvQxXgLY1-7o"
      }
    },
    {
      "cell_type": "markdown",
      "source": [
        "###Installing Dependencies"
      ],
      "metadata": {
        "id": "okMG6uBS4h6g"
      }
    },
    {
      "cell_type": "code",
      "source": [
        "# Install the yfinance and pandas libraries\n",
        "!pip install yfinance pandas\n",
        "\n",
        "import yfinance as yf\n",
        "import pandas as pd\n",
        "\n"
      ],
      "metadata": {
        "colab": {
          "base_uri": "https://localhost:8080/"
        },
        "id": "2XRgYtS9193S",
        "outputId": "f817fd7b-814a-4088-af07-3ba1edfeb60b"
      },
      "execution_count": 9,
      "outputs": [
        {
          "output_type": "stream",
          "name": "stdout",
          "text": [
            "Requirement already satisfied: yfinance in /usr/local/lib/python3.10/dist-packages (0.2.28)\n",
            "Requirement already satisfied: pandas in /usr/local/lib/python3.10/dist-packages (1.5.3)\n",
            "Requirement already satisfied: numpy>=1.16.5 in /usr/local/lib/python3.10/dist-packages (from yfinance) (1.23.5)\n",
            "Requirement already satisfied: requests>=2.31 in /usr/local/lib/python3.10/dist-packages (from yfinance) (2.31.0)\n",
            "Requirement already satisfied: multitasking>=0.0.7 in /usr/local/lib/python3.10/dist-packages (from yfinance) (0.0.11)\n",
            "Requirement already satisfied: lxml>=4.9.1 in /usr/local/lib/python3.10/dist-packages (from yfinance) (4.9.3)\n",
            "Requirement already satisfied: appdirs>=1.4.4 in /usr/local/lib/python3.10/dist-packages (from yfinance) (1.4.4)\n",
            "Requirement already satisfied: pytz>=2022.5 in /usr/local/lib/python3.10/dist-packages (from yfinance) (2023.3)\n",
            "Requirement already satisfied: frozendict>=2.3.4 in /usr/local/lib/python3.10/dist-packages (from yfinance) (2.3.8)\n",
            "Requirement already satisfied: beautifulsoup4>=4.11.1 in /usr/local/lib/python3.10/dist-packages (from yfinance) (4.11.2)\n",
            "Requirement already satisfied: html5lib>=1.1 in /usr/local/lib/python3.10/dist-packages (from yfinance) (1.1)\n",
            "Requirement already satisfied: python-dateutil>=2.8.1 in /usr/local/lib/python3.10/dist-packages (from pandas) (2.8.2)\n",
            "Requirement already satisfied: soupsieve>1.2 in /usr/local/lib/python3.10/dist-packages (from beautifulsoup4>=4.11.1->yfinance) (2.4.1)\n",
            "Requirement already satisfied: six>=1.9 in /usr/local/lib/python3.10/dist-packages (from html5lib>=1.1->yfinance) (1.16.0)\n",
            "Requirement already satisfied: webencodings in /usr/local/lib/python3.10/dist-packages (from html5lib>=1.1->yfinance) (0.5.1)\n",
            "Requirement already satisfied: charset-normalizer<4,>=2 in /usr/local/lib/python3.10/dist-packages (from requests>=2.31->yfinance) (3.2.0)\n",
            "Requirement already satisfied: idna<4,>=2.5 in /usr/local/lib/python3.10/dist-packages (from requests>=2.31->yfinance) (3.4)\n",
            "Requirement already satisfied: urllib3<3,>=1.21.1 in /usr/local/lib/python3.10/dist-packages (from requests>=2.31->yfinance) (2.0.4)\n",
            "Requirement already satisfied: certifi>=2017.4.17 in /usr/local/lib/python3.10/dist-packages (from requests>=2.31->yfinance) (2023.7.22)\n"
          ]
        }
      ]
    },
    {
      "cell_type": "markdown",
      "source": [
        "###List Your Company's stock symbol"
      ],
      "metadata": {
        "id": "Hu68X2524nHl"
      }
    },
    {
      "cell_type": "code",
      "source": [
        "# Replace 'AMZN' with the stock symbol of the company you're interested in\n",
        "stock_symbol = 'INFY'\n"
      ],
      "metadata": {
        "id": "wC68ZzUe3HeI"
      },
      "execution_count": 10,
      "outputs": []
    },
    {
      "cell_type": "markdown",
      "source": [
        "###Run Cell to Scrape Values"
      ],
      "metadata": {
        "id": "lN2BRMjd4451"
      }
    },
    {
      "cell_type": "code",
      "source": [
        "# Get the company's ticker information\n",
        "ticker = yf.Ticker(stock_symbol)\n",
        "\n",
        "# Get the date when the company was listed\n",
        "start_date = ticker.history(period=\"max\").index[0]   ##Put Year as per your requirement\n",
        "\n",
        "# Get historical data from the start date to today\n",
        "historical_data = ticker.history(start=start_date, end=pd.Timestamp.today(), interval=\"1d\")    #intervals can be changed as -  \"1d\" , \"1wk\" , \"1mo\"\n",
        "\n",
        "# Remove timezone information from the datetime index\n",
        "historical_data.index = historical_data.index.tz_localize(None)"
      ],
      "metadata": {
        "id": "xcC8olX844tA"
      },
      "execution_count": 11,
      "outputs": []
    },
    {
      "cell_type": "markdown",
      "source": [
        "###Export to Excel and Save"
      ],
      "metadata": {
        "id": "GjQ7WzKb490A"
      }
    },
    {
      "cell_type": "code",
      "source": [
        "# Export data to an Excel file and save in Colab storage\n",
        "\n",
        "excel_filename = \"/content/infosys.xlsx\"    #remove '---' and change file name here accordingly.\n",
        "\n",
        "historical_data.to_excel(excel_filename, engine='openpyxl')\n",
        "\n",
        "print(f\"Data exported to {excel_filename}\")"
      ],
      "metadata": {
        "colab": {
          "base_uri": "https://localhost:8080/"
        },
        "id": "xuq1H-jf3MG2",
        "outputId": "5c0ac803-9b51-490c-e9ca-dde48943fac8"
      },
      "execution_count": 12,
      "outputs": [
        {
          "output_type": "stream",
          "name": "stdout",
          "text": [
            "Data exported to /content/infosys.xlsx\n"
          ]
        }
      ]
    },
    {
      "cell_type": "markdown",
      "source": [
        "###CHECK FILES FOR THE SCRAPED EXCEL OUTPUT!"
      ],
      "metadata": {
        "id": "ZdmR69FU6D7x"
      }
    }
  ]
}